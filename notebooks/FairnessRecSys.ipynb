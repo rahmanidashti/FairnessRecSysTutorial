{
  "cells": [
    {
      "cell_type": "markdown",
      "metadata": {
        "collapsed": true,
        "id": "PU-DICOY_RZR"
      },
      "source": [
        "# Notebook #1: Designing and evaluating a recommendation algorithm\n",
        "\n",
        "In this notebook, we become familiar with the Python recommendation toolbox, in the simplest possible way. First, we setup the working environment in GDrive. Then, we go through the experimental pipeline, by:\n",
        "- loading the Movielens 1M dataset;\n",
        "- performing a train-test splitting;\n",
        "- creating a pointwise / pairwise / random / mostpop recommendation object;\n",
        "- training the model (if applicable);\n",
        "- computing the user-item relevance matrix;\n",
        "- calculating some of the recommendation metrics (e.g., NDCG, Item Coverage, Diversity, Novelty).\n",
        "\n",
        "The trained models, together with the partial computation we will save (e.g., user-item relevance matrix or metrics), will be the starting point of the investigation and the treatment covered by the other Jupyter notebooks.\n",
        "\n",
        "**IMPORTANT**: Please go the \"Runtime\" option in the top menu, then click on \"Change runtime\" and select \"GPU\"."
      ]
    },
    {
      "cell_type": "markdown",
      "metadata": {
        "id": "tfQL85o__RZT"
      },
      "source": [
        "## Setup the working environment for this notebook\n",
        "\n",
        "- Python 3.6\n",
        "- Package Requirements: matplotlib, numpy, pandas, scikit-learn, scipy, tensorflow-gpu==2.0\n",
        "- Storage requirements: around 1GB"
      ]
    },
    {
      "cell_type": "markdown",
      "metadata": {
        "id": "4Ed4yb65_RZU"
      },
      "source": [
        "This step serves to mount GDrive storage within this Jupyter notebook. The command will request us to give access permissions to this notebook, so that we will be able to clone the project repository when we desire. Please follow the prompted instructions."
      ]
    },
    {
      "cell_type": "code",
      "execution_count": null,
      "metadata": {
        "id": "oG2FzloL_RZU"
      },
      "outputs": [],
      "source": [
        "# from google.colab import drive\n",
        "# drive.mount('/content/gdrive')"
      ]
    },
    {
      "cell_type": "markdown",
      "metadata": {
        "id": "eDPYh1Op_RZV"
      },
      "source": [
        "We will clone the project repository in our My Drive folder. If you wish to change the target folder, please modify the command below."
      ]
    },
    {
      "cell_type": "code",
      "execution_count": null,
      "metadata": {
        "id": "52PLeeYs_RZV"
      },
      "outputs": [],
      "source": [
        "# %cd /content/gdrive/My Drive/"
      ]
    },
    {
      "cell_type": "code",
      "execution_count": null,
      "metadata": {
        "id": "CXY7xlEn_RZV",
        "outputId": "7f5016af-7d5b-4147-895b-e21667400fcd",
        "colab": {
          "base_uri": "https://localhost:8080/"
        }
      },
      "outputs": [
        {
          "output_type": "stream",
          "name": "stdout",
          "text": [
            "Cloning into 'FairnessRecSysTutorial'...\n",
            "remote: Enumerating objects: 138, done.\u001b[K\n",
            "remote: Counting objects: 100% (138/138), done.\u001b[K\n",
            "remote: Compressing objects: 100% (112/112), done.\u001b[K\n",
            "remote: Total 138 (delta 29), reused 129 (delta 20), pack-reused 0\u001b[K\n",
            "Receiving objects: 100% (138/138), 10.50 MiB | 19.03 MiB/s, done.\n",
            "Resolving deltas: 100% (29/29), done.\n"
          ]
        }
      ],
      "source": [
        "# ! git clone https://github.com/biasinrecsys/umap2020.git\n",
        "! git clone https://github.com/rahmanidashti/FairnessRecSysTutorial.git"
      ]
    },
    {
      "cell_type": "markdown",
      "metadata": {
        "id": "BhKDSJDg_RZV"
      },
      "source": [
        "We will move to the project folder in order to install the required packages."
      ]
    },
    {
      "cell_type": "code",
      "execution_count": null,
      "metadata": {
        "id": "uOC_UKsa_RZW",
        "outputId": "4efd532d-c167-4975-b467-5cce466d5e15",
        "colab": {
          "base_uri": "https://localhost:8080/"
        }
      },
      "outputs": [
        {
          "output_type": "stream",
          "name": "stdout",
          "text": [
            "/content/FairnessRecSysTutorial\n"
          ]
        }
      ],
      "source": [
        "%cd FairnessRecSysTutorial/"
      ]
    },
    {
      "cell_type": "code",
      "execution_count": null,
      "metadata": {
        "id": "jZfMcJlI_RZW",
        "outputId": "262acd75-a8c9-4ae4-a13c-e766ed3d7bc2",
        "colab": {
          "base_uri": "https://localhost:8080/"
        }
      },
      "outputs": [
        {
          "output_type": "stream",
          "name": "stdout",
          "text": [
            "data  docs  helpers  LICENSE.md  models  notebooks  README.md  requirements.txt\n"
          ]
        }
      ],
      "source": [
        "! ls"
      ]
    },
    {
      "cell_type": "code",
      "execution_count": null,
      "metadata": {
        "id": "8DC4UNB8_RZW",
        "outputId": "bbb9d034-55df-4051-b107-e76198d486eb",
        "colab": {
          "base_uri": "https://localhost:8080/"
        }
      },
      "outputs": [
        {
          "output_type": "stream",
          "name": "stdout",
          "text": [
            "Collecting jupyter (from -r requirements.txt (line 1))\n",
            "  Downloading jupyter-1.0.0-py2.py3-none-any.whl (2.7 kB)\n",
            "Collecting jupyterlab (from -r requirements.txt (line 2))\n",
            "  Downloading jupyterlab-4.0.9-py3-none-any.whl (9.2 MB)\n",
            "\u001b[2K     \u001b[90m━━━━━━━━━━━━━━━━━━━━━━━━━━━━━━━━━━━━━━━━\u001b[0m \u001b[32m9.2/9.2 MB\u001b[0m \u001b[31m22.2 MB/s\u001b[0m eta \u001b[36m0:00:00\u001b[0m\n",
            "\u001b[?25hRequirement already satisfied: matplotlib in /usr/local/lib/python3.10/dist-packages (from -r requirements.txt (line 3)) (3.7.1)\n",
            "Requirement already satisfied: numpy in /usr/local/lib/python3.10/dist-packages (from -r requirements.txt (line 4)) (1.23.5)\n",
            "Requirement already satisfied: pandas in /usr/local/lib/python3.10/dist-packages (from -r requirements.txt (line 5)) (1.5.3)\n",
            "Requirement already satisfied: scikit-learn in /usr/local/lib/python3.10/dist-packages (from -r requirements.txt (line 6)) (1.2.2)\n",
            "Requirement already satisfied: scipy in /usr/local/lib/python3.10/dist-packages (from -r requirements.txt (line 7)) (1.11.3)\n",
            "\u001b[31mERROR: Could not find a version that satisfies the requirement tensorflow-gpu==2.0 (from versions: 2.8.0rc0, 2.8.0rc1, 2.8.0, 2.8.1, 2.8.2, 2.8.3, 2.8.4, 2.9.0rc0, 2.9.0rc1, 2.9.0rc2, 2.9.0, 2.9.1, 2.9.2, 2.9.3, 2.10.0rc0, 2.10.0rc1, 2.10.0rc2, 2.10.0rc3, 2.10.0, 2.10.1, 2.11.0rc0, 2.11.0rc1, 2.11.0rc2, 2.11.0, 2.12.0)\u001b[0m\u001b[31m\n",
            "\u001b[0m\u001b[31mERROR: No matching distribution found for tensorflow-gpu==2.0\u001b[0m\u001b[31m\n",
            "\u001b[0m"
          ]
        }
      ],
      "source": [
        "! pip install -r requirements.txt"
      ]
    },
    {
      "cell_type": "markdown",
      "metadata": {
        "id": "LTyt9Fnb_RZW"
      },
      "source": [
        "We will configure the notebooks directory as our working directory in order to simulate a local notebook execution."
      ]
    },
    {
      "cell_type": "code",
      "execution_count": null,
      "metadata": {
        "id": "cMi811KR_RZW",
        "outputId": "3c21e06d-39b7-4a89-91d7-429a552e5988",
        "colab": {
          "base_uri": "https://localhost:8080/"
        }
      },
      "outputs": [
        {
          "output_type": "stream",
          "name": "stdout",
          "text": [
            "/content/FairnessRecSysTutorial/notebooks\n"
          ]
        }
      ],
      "source": [
        "%cd ./notebooks"
      ]
    },
    {
      "cell_type": "markdown",
      "metadata": {
        "id": "rrzBEiLN_RZW"
      },
      "source": [
        "## Import packages"
      ]
    },
    {
      "cell_type": "code",
      "execution_count": null,
      "metadata": {
        "id": "HthhyWgD_RZW"
      },
      "outputs": [],
      "source": [
        "import sys\n",
        "import os\n",
        "\n",
        "sys.path.append(os.path.join('..'))"
      ]
    },
    {
      "cell_type": "code",
      "execution_count": null,
      "metadata": {
        "id": "ll8YDlSC_RZW"
      },
      "outputs": [],
      "source": [
        "import pandas as pd\n",
        "import numpy as np"
      ]
    },
    {
      "cell_type": "code",
      "source": [
        "import matplotlib.pyplot as plt\n",
        "%matplotlib inline"
      ],
      "metadata": {
        "id": "z6gCxsEix_h_"
      },
      "execution_count": null,
      "outputs": []
    },
    {
      "cell_type": "code",
      "execution_count": null,
      "metadata": {
        "id": "qgE1GplW_RZW"
      },
      "outputs": [],
      "source": [
        "from helpers.train_test_splitter import *\n",
        "from models.pointwise import PointWise\n",
        "from models.pairwise import PairWise\n",
        "from models.mostpop import MostPop\n",
        "from models.random import Random\n",
        "from helpers.utils import *"
      ]
    },
    {
      "cell_type": "markdown",
      "metadata": {
        "id": "Pj-Aeq8e_RZX"
      },
      "source": [
        "We will define the folders where we will store our pre-computed results."
      ]
    },
    {
      "cell_type": "code",
      "execution_count": null,
      "metadata": {
        "id": "cVmq5Cti_RZX"
      },
      "outputs": [],
      "source": [
        "data_path = '../data/'"
      ]
    },
    {
      "cell_type": "code",
      "execution_count": null,
      "metadata": {
        "id": "fcftMXTW_RZX"
      },
      "outputs": [],
      "source": [
        "!mkdir '../data/outputs'\n",
        "!mkdir '../data/outputs/splits'\n",
        "!mkdir '../data/outputs/instances'\n",
        "!mkdir '../data/outputs/models'\n",
        "!mkdir '../data/outputs/predictions'\n",
        "!mkdir '../data/outputs/metrics'"
      ]
    },
    {
      "cell_type": "markdown",
      "metadata": {
        "id": "2hickEay_RZX"
      },
      "source": [
        "## Load data"
      ]
    },
    {
      "cell_type": "markdown",
      "metadata": {
        "id": "DdEuyJzK_RZX"
      },
      "source": [
        "First, we will load the Movielens 1M dataset, which has been pre-arranged in order to comply with the following structure: user_id, item_id, rating, timestamp, type (label for the item category), and type_id (unique id of the item category). For the sake of tutorial easiness, we assume here that each item is randomly assigned to one of its categories in the original dataset. Our toolbox is flexible enough to integrate any other dataset in csv format that has the same structure of the pre-arranged csv shown below. No further changes are needed to experiment with other datasets.   "
      ]
    },
    {
      "cell_type": "code",
      "execution_count": null,
      "metadata": {
        "id": "TgFve_XE_RZX"
      },
      "outputs": [],
      "source": [
        "dataset = 'ml1m'\n",
        "user_field = 'user_id'\n",
        "item_field = 'item_id'\n",
        "rating_field = 'rating'\n",
        "time_field = 'timestamp'\n",
        "type_field = 'type_id'"
      ]
    },
    {
      "cell_type": "code",
      "execution_count": null,
      "metadata": {
        "id": "gN_t0TPo_RZX"
      },
      "outputs": [],
      "source": [
        "data = pd.read_csv(os.path.join(data_path, 'datasets/' + dataset + '.csv'), encoding='utf8')"
      ]
    },
    {
      "cell_type": "code",
      "execution_count": null,
      "metadata": {
        "id": "2b891Cgz_RZX",
        "outputId": "ea1b602e-b25f-4b56-e2f8-e557a4d707c2",
        "colab": {
          "base_uri": "https://localhost:8080/",
          "height": 206
        }
      },
      "outputs": [
        {
          "output_type": "execute_result",
          "data": {
            "text/plain": [
              "   user_id  item_id  rating            timestamp   type  type_id\n",
              "0        1     1193     5.0  2000-12-31 23:12:40  Drama        7\n",
              "1        2     1193     5.0  2000-12-31 22:33:33  Drama        7\n",
              "2       12     1193     4.0  2000-12-31 00:49:39  Drama        7\n",
              "3       15     1193     4.0  2000-12-30 19:01:19  Drama        7\n",
              "4       17     1193     5.0  2000-12-30 07:41:11  Drama        7"
            ],
            "text/html": [
              "\n",
              "  <div id=\"df-c882f17a-fc93-491e-a094-e8d8f9bb375c\" class=\"colab-df-container\">\n",
              "    <div>\n",
              "<style scoped>\n",
              "    .dataframe tbody tr th:only-of-type {\n",
              "        vertical-align: middle;\n",
              "    }\n",
              "\n",
              "    .dataframe tbody tr th {\n",
              "        vertical-align: top;\n",
              "    }\n",
              "\n",
              "    .dataframe thead th {\n",
              "        text-align: right;\n",
              "    }\n",
              "</style>\n",
              "<table border=\"1\" class=\"dataframe\">\n",
              "  <thead>\n",
              "    <tr style=\"text-align: right;\">\n",
              "      <th></th>\n",
              "      <th>user_id</th>\n",
              "      <th>item_id</th>\n",
              "      <th>rating</th>\n",
              "      <th>timestamp</th>\n",
              "      <th>type</th>\n",
              "      <th>type_id</th>\n",
              "    </tr>\n",
              "  </thead>\n",
              "  <tbody>\n",
              "    <tr>\n",
              "      <th>0</th>\n",
              "      <td>1</td>\n",
              "      <td>1193</td>\n",
              "      <td>5.0</td>\n",
              "      <td>2000-12-31 23:12:40</td>\n",
              "      <td>Drama</td>\n",
              "      <td>7</td>\n",
              "    </tr>\n",
              "    <tr>\n",
              "      <th>1</th>\n",
              "      <td>2</td>\n",
              "      <td>1193</td>\n",
              "      <td>5.0</td>\n",
              "      <td>2000-12-31 22:33:33</td>\n",
              "      <td>Drama</td>\n",
              "      <td>7</td>\n",
              "    </tr>\n",
              "    <tr>\n",
              "      <th>2</th>\n",
              "      <td>12</td>\n",
              "      <td>1193</td>\n",
              "      <td>4.0</td>\n",
              "      <td>2000-12-31 00:49:39</td>\n",
              "      <td>Drama</td>\n",
              "      <td>7</td>\n",
              "    </tr>\n",
              "    <tr>\n",
              "      <th>3</th>\n",
              "      <td>15</td>\n",
              "      <td>1193</td>\n",
              "      <td>4.0</td>\n",
              "      <td>2000-12-30 19:01:19</td>\n",
              "      <td>Drama</td>\n",
              "      <td>7</td>\n",
              "    </tr>\n",
              "    <tr>\n",
              "      <th>4</th>\n",
              "      <td>17</td>\n",
              "      <td>1193</td>\n",
              "      <td>5.0</td>\n",
              "      <td>2000-12-30 07:41:11</td>\n",
              "      <td>Drama</td>\n",
              "      <td>7</td>\n",
              "    </tr>\n",
              "  </tbody>\n",
              "</table>\n",
              "</div>\n",
              "    <div class=\"colab-df-buttons\">\n",
              "\n",
              "  <div class=\"colab-df-container\">\n",
              "    <button class=\"colab-df-convert\" onclick=\"convertToInteractive('df-c882f17a-fc93-491e-a094-e8d8f9bb375c')\"\n",
              "            title=\"Convert this dataframe to an interactive table.\"\n",
              "            style=\"display:none;\">\n",
              "\n",
              "  <svg xmlns=\"http://www.w3.org/2000/svg\" height=\"24px\" viewBox=\"0 -960 960 960\">\n",
              "    <path d=\"M120-120v-720h720v720H120Zm60-500h600v-160H180v160Zm220 220h160v-160H400v160Zm0 220h160v-160H400v160ZM180-400h160v-160H180v160Zm440 0h160v-160H620v160ZM180-180h160v-160H180v160Zm440 0h160v-160H620v160Z\"/>\n",
              "  </svg>\n",
              "    </button>\n",
              "\n",
              "  <style>\n",
              "    .colab-df-container {\n",
              "      display:flex;\n",
              "      gap: 12px;\n",
              "    }\n",
              "\n",
              "    .colab-df-convert {\n",
              "      background-color: #E8F0FE;\n",
              "      border: none;\n",
              "      border-radius: 50%;\n",
              "      cursor: pointer;\n",
              "      display: none;\n",
              "      fill: #1967D2;\n",
              "      height: 32px;\n",
              "      padding: 0 0 0 0;\n",
              "      width: 32px;\n",
              "    }\n",
              "\n",
              "    .colab-df-convert:hover {\n",
              "      background-color: #E2EBFA;\n",
              "      box-shadow: 0px 1px 2px rgba(60, 64, 67, 0.3), 0px 1px 3px 1px rgba(60, 64, 67, 0.15);\n",
              "      fill: #174EA6;\n",
              "    }\n",
              "\n",
              "    .colab-df-buttons div {\n",
              "      margin-bottom: 4px;\n",
              "    }\n",
              "\n",
              "    [theme=dark] .colab-df-convert {\n",
              "      background-color: #3B4455;\n",
              "      fill: #D2E3FC;\n",
              "    }\n",
              "\n",
              "    [theme=dark] .colab-df-convert:hover {\n",
              "      background-color: #434B5C;\n",
              "      box-shadow: 0px 1px 3px 1px rgba(0, 0, 0, 0.15);\n",
              "      filter: drop-shadow(0px 1px 2px rgba(0, 0, 0, 0.3));\n",
              "      fill: #FFFFFF;\n",
              "    }\n",
              "  </style>\n",
              "\n",
              "    <script>\n",
              "      const buttonEl =\n",
              "        document.querySelector('#df-c882f17a-fc93-491e-a094-e8d8f9bb375c button.colab-df-convert');\n",
              "      buttonEl.style.display =\n",
              "        google.colab.kernel.accessAllowed ? 'block' : 'none';\n",
              "\n",
              "      async function convertToInteractive(key) {\n",
              "        const element = document.querySelector('#df-c882f17a-fc93-491e-a094-e8d8f9bb375c');\n",
              "        const dataTable =\n",
              "          await google.colab.kernel.invokeFunction('convertToInteractive',\n",
              "                                                    [key], {});\n",
              "        if (!dataTable) return;\n",
              "\n",
              "        const docLinkHtml = 'Like what you see? Visit the ' +\n",
              "          '<a target=\"_blank\" href=https://colab.research.google.com/notebooks/data_table.ipynb>data table notebook</a>'\n",
              "          + ' to learn more about interactive tables.';\n",
              "        element.innerHTML = '';\n",
              "        dataTable['output_type'] = 'display_data';\n",
              "        await google.colab.output.renderOutput(dataTable, element);\n",
              "        const docLink = document.createElement('div');\n",
              "        docLink.innerHTML = docLinkHtml;\n",
              "        element.appendChild(docLink);\n",
              "      }\n",
              "    </script>\n",
              "  </div>\n",
              "\n",
              "\n",
              "<div id=\"df-e776a4a9-3749-4068-a69d-b54bd993f44d\">\n",
              "  <button class=\"colab-df-quickchart\" onclick=\"quickchart('df-e776a4a9-3749-4068-a69d-b54bd993f44d')\"\n",
              "            title=\"Suggest charts\"\n",
              "            style=\"display:none;\">\n",
              "\n",
              "<svg xmlns=\"http://www.w3.org/2000/svg\" height=\"24px\"viewBox=\"0 0 24 24\"\n",
              "     width=\"24px\">\n",
              "    <g>\n",
              "        <path d=\"M19 3H5c-1.1 0-2 .9-2 2v14c0 1.1.9 2 2 2h14c1.1 0 2-.9 2-2V5c0-1.1-.9-2-2-2zM9 17H7v-7h2v7zm4 0h-2V7h2v10zm4 0h-2v-4h2v4z\"/>\n",
              "    </g>\n",
              "</svg>\n",
              "  </button>\n",
              "\n",
              "<style>\n",
              "  .colab-df-quickchart {\n",
              "      --bg-color: #E8F0FE;\n",
              "      --fill-color: #1967D2;\n",
              "      --hover-bg-color: #E2EBFA;\n",
              "      --hover-fill-color: #174EA6;\n",
              "      --disabled-fill-color: #AAA;\n",
              "      --disabled-bg-color: #DDD;\n",
              "  }\n",
              "\n",
              "  [theme=dark] .colab-df-quickchart {\n",
              "      --bg-color: #3B4455;\n",
              "      --fill-color: #D2E3FC;\n",
              "      --hover-bg-color: #434B5C;\n",
              "      --hover-fill-color: #FFFFFF;\n",
              "      --disabled-bg-color: #3B4455;\n",
              "      --disabled-fill-color: #666;\n",
              "  }\n",
              "\n",
              "  .colab-df-quickchart {\n",
              "    background-color: var(--bg-color);\n",
              "    border: none;\n",
              "    border-radius: 50%;\n",
              "    cursor: pointer;\n",
              "    display: none;\n",
              "    fill: var(--fill-color);\n",
              "    height: 32px;\n",
              "    padding: 0;\n",
              "    width: 32px;\n",
              "  }\n",
              "\n",
              "  .colab-df-quickchart:hover {\n",
              "    background-color: var(--hover-bg-color);\n",
              "    box-shadow: 0 1px 2px rgba(60, 64, 67, 0.3), 0 1px 3px 1px rgba(60, 64, 67, 0.15);\n",
              "    fill: var(--button-hover-fill-color);\n",
              "  }\n",
              "\n",
              "  .colab-df-quickchart-complete:disabled,\n",
              "  .colab-df-quickchart-complete:disabled:hover {\n",
              "    background-color: var(--disabled-bg-color);\n",
              "    fill: var(--disabled-fill-color);\n",
              "    box-shadow: none;\n",
              "  }\n",
              "\n",
              "  .colab-df-spinner {\n",
              "    border: 2px solid var(--fill-color);\n",
              "    border-color: transparent;\n",
              "    border-bottom-color: var(--fill-color);\n",
              "    animation:\n",
              "      spin 1s steps(1) infinite;\n",
              "  }\n",
              "\n",
              "  @keyframes spin {\n",
              "    0% {\n",
              "      border-color: transparent;\n",
              "      border-bottom-color: var(--fill-color);\n",
              "      border-left-color: var(--fill-color);\n",
              "    }\n",
              "    20% {\n",
              "      border-color: transparent;\n",
              "      border-left-color: var(--fill-color);\n",
              "      border-top-color: var(--fill-color);\n",
              "    }\n",
              "    30% {\n",
              "      border-color: transparent;\n",
              "      border-left-color: var(--fill-color);\n",
              "      border-top-color: var(--fill-color);\n",
              "      border-right-color: var(--fill-color);\n",
              "    }\n",
              "    40% {\n",
              "      border-color: transparent;\n",
              "      border-right-color: var(--fill-color);\n",
              "      border-top-color: var(--fill-color);\n",
              "    }\n",
              "    60% {\n",
              "      border-color: transparent;\n",
              "      border-right-color: var(--fill-color);\n",
              "    }\n",
              "    80% {\n",
              "      border-color: transparent;\n",
              "      border-right-color: var(--fill-color);\n",
              "      border-bottom-color: var(--fill-color);\n",
              "    }\n",
              "    90% {\n",
              "      border-color: transparent;\n",
              "      border-bottom-color: var(--fill-color);\n",
              "    }\n",
              "  }\n",
              "</style>\n",
              "\n",
              "  <script>\n",
              "    async function quickchart(key) {\n",
              "      const quickchartButtonEl =\n",
              "        document.querySelector('#' + key + ' button');\n",
              "      quickchartButtonEl.disabled = true;  // To prevent multiple clicks.\n",
              "      quickchartButtonEl.classList.add('colab-df-spinner');\n",
              "      try {\n",
              "        const charts = await google.colab.kernel.invokeFunction(\n",
              "            'suggestCharts', [key], {});\n",
              "      } catch (error) {\n",
              "        console.error('Error during call to suggestCharts:', error);\n",
              "      }\n",
              "      quickchartButtonEl.classList.remove('colab-df-spinner');\n",
              "      quickchartButtonEl.classList.add('colab-df-quickchart-complete');\n",
              "    }\n",
              "    (() => {\n",
              "      let quickchartButtonEl =\n",
              "        document.querySelector('#df-e776a4a9-3749-4068-a69d-b54bd993f44d button');\n",
              "      quickchartButtonEl.style.display =\n",
              "        google.colab.kernel.accessAllowed ? 'block' : 'none';\n",
              "    })();\n",
              "  </script>\n",
              "</div>\n",
              "    </div>\n",
              "  </div>\n"
            ]
          },
          "metadata": {},
          "execution_count": 13
        }
      ],
      "source": [
        "data.head()"
      ]
    },
    {
      "cell_type": "markdown",
      "metadata": {
        "id": "SBemd_yP_RZX"
      },
      "source": [
        "During this tutorial, we will simulate a scenario with implicit feedback."
      ]
    },
    {
      "cell_type": "code",
      "execution_count": null,
      "metadata": {
        "id": "XP5OGqQu_RZX"
      },
      "outputs": [],
      "source": [
        "data[rating_field] = data[rating_field].apply(lambda x: 1.0)"
      ]
    },
    {
      "cell_type": "markdown",
      "metadata": {
        "id": "66jVCKYb_RZX"
      },
      "source": [
        "## Split data in train and test sets"
      ]
    },
    {
      "cell_type": "markdown",
      "metadata": {
        "id": "NtSOpwcd_RZX"
      },
      "source": [
        "- **smode**: 'uftime' for fixed timestamp split, 'utime' for time-based split per user, 'urandom' for random split per user\n",
        "- **train_ratio**: percentage of data to be included in the train set\n",
        "- **min_train**: minimum number of train samples for a user to be included  \n",
        "- **min_test**: minimum number of test samples for a user to be included\n",
        "- **min_time**: start timestamp for computing the splitting timestamp (only for uftime)\n",
        "- **max_time**: end timestamp for computing the splitting timestamp (only for uftime)\n",
        "- **step_time**: timestamp step for computing the splitting timestamp (only for uftime)"
      ]
    },
    {
      "cell_type": "code",
      "execution_count": null,
      "metadata": {
        "id": "rJUYXUHV_RZX"
      },
      "outputs": [],
      "source": [
        "smode = 'utime'\n",
        "train_ratio = 0.80\n",
        "min_train_samples = 8\n",
        "min_test_samples = 2\n",
        "min_time = None\n",
        "max_time = None\n",
        "step_time = 1000"
      ]
    },
    {
      "cell_type": "markdown",
      "metadata": {
        "id": "76Op1M9d_RZX"
      },
      "source": [
        "During this tutorial, we will work with a common time-based split per user."
      ]
    },
    {
      "cell_type": "code",
      "execution_count": null,
      "metadata": {
        "id": "lR1tCQt9_RZX",
        "outputId": "17730ab7-54da-4f84-b1dc-795ecff953ab",
        "colab": {
          "base_uri": "https://localhost:8080/"
        }
      },
      "outputs": [
        {
          "output_type": "stream",
          "name": "stderr",
          "text": [
            "/content/FairnessRecSysTutorial/notebooks/../helpers/train_test_splitter.py:71: FutureWarning: In a future version of pandas, a length 1 tuple will be returned when iterating over a groupby with a grouper equal to a list of length 1. Don't supply a list with a single grouper to avoid this warning.\n",
            "  for i, (index, group) in enumerate(groups):\n"
          ]
        },
        {
          "output_type": "stream",
          "name": "stdout",
          "text": [
            "> Parsing user 6000 of 6040\n"
          ]
        }
      ],
      "source": [
        "if smode == 'uftime':\n",
        "    traintest = fixed_timestamp(data, min_train_samples, min_test_samples, min_time, max_time, step_time, user_field, item_field, time_field, rating_field)\n",
        "elif smode == 'utime':\n",
        "    traintest = user_timestamp(data, train_ratio, min_train_samples+min_test_samples, user_field, item_field, time_field)\n",
        "elif smode == 'urandom':\n",
        "    traintest = user_random(data, train_ratio, min_train_samples+min_test_samples, user_field, item_field)"
      ]
    },
    {
      "cell_type": "markdown",
      "metadata": {
        "id": "8eLn8AUH_RZX"
      },
      "source": [
        "Please note that user_ids and item_ids have been scaled so that user_ids is in [0, no_users] and item_ids will be in [0, no_items]. If you wish to link these new ids to the older ones, please refer to the user_id_original and item_id_original columns."
      ]
    },
    {
      "cell_type": "code",
      "execution_count": null,
      "metadata": {
        "id": "XsGc-oB5_RZX",
        "outputId": "bb2f0eac-fa92-406d-d923-9000a3d22771",
        "colab": {
          "base_uri": "https://localhost:8080/",
          "height": 313
        }
      },
      "outputs": [
        {
          "output_type": "execute_result",
          "data": {
            "text/plain": [
              "       user_id  item_id  rating            timestamp        type  type_id  \\\n",
              "34073        0     2969     1.0  2000-12-31 23:00:19       Drama        7   \n",
              "31152        0     1574     1.0  2000-12-31 23:00:55     Romance       13   \n",
              "37339        0      957     1.0  2000-12-31 23:00:55  Children's        3   \n",
              "23270        0     1178     1.0  2000-12-31 23:00:55      Sci-Fi       14   \n",
              "28157        0     2147     1.0  2000-12-31 23:01:43     Romance       13   \n",
              "\n",
              "         set  user_id_original  item_id_original  \n",
              "34073  train                 1              3186  \n",
              "31152  train                 1              1721  \n",
              "37339  train                 1              1022  \n",
              "23270  train                 1              1270  \n",
              "28157  train                 1              2340  "
            ],
            "text/html": [
              "\n",
              "  <div id=\"df-9c9e39ba-8d4c-4ec1-85b9-06a632d1f906\" class=\"colab-df-container\">\n",
              "    <div>\n",
              "<style scoped>\n",
              "    .dataframe tbody tr th:only-of-type {\n",
              "        vertical-align: middle;\n",
              "    }\n",
              "\n",
              "    .dataframe tbody tr th {\n",
              "        vertical-align: top;\n",
              "    }\n",
              "\n",
              "    .dataframe thead th {\n",
              "        text-align: right;\n",
              "    }\n",
              "</style>\n",
              "<table border=\"1\" class=\"dataframe\">\n",
              "  <thead>\n",
              "    <tr style=\"text-align: right;\">\n",
              "      <th></th>\n",
              "      <th>user_id</th>\n",
              "      <th>item_id</th>\n",
              "      <th>rating</th>\n",
              "      <th>timestamp</th>\n",
              "      <th>type</th>\n",
              "      <th>type_id</th>\n",
              "      <th>set</th>\n",
              "      <th>user_id_original</th>\n",
              "      <th>item_id_original</th>\n",
              "    </tr>\n",
              "  </thead>\n",
              "  <tbody>\n",
              "    <tr>\n",
              "      <th>34073</th>\n",
              "      <td>0</td>\n",
              "      <td>2969</td>\n",
              "      <td>1.0</td>\n",
              "      <td>2000-12-31 23:00:19</td>\n",
              "      <td>Drama</td>\n",
              "      <td>7</td>\n",
              "      <td>train</td>\n",
              "      <td>1</td>\n",
              "      <td>3186</td>\n",
              "    </tr>\n",
              "    <tr>\n",
              "      <th>31152</th>\n",
              "      <td>0</td>\n",
              "      <td>1574</td>\n",
              "      <td>1.0</td>\n",
              "      <td>2000-12-31 23:00:55</td>\n",
              "      <td>Romance</td>\n",
              "      <td>13</td>\n",
              "      <td>train</td>\n",
              "      <td>1</td>\n",
              "      <td>1721</td>\n",
              "    </tr>\n",
              "    <tr>\n",
              "      <th>37339</th>\n",
              "      <td>0</td>\n",
              "      <td>957</td>\n",
              "      <td>1.0</td>\n",
              "      <td>2000-12-31 23:00:55</td>\n",
              "      <td>Children's</td>\n",
              "      <td>3</td>\n",
              "      <td>train</td>\n",
              "      <td>1</td>\n",
              "      <td>1022</td>\n",
              "    </tr>\n",
              "    <tr>\n",
              "      <th>23270</th>\n",
              "      <td>0</td>\n",
              "      <td>1178</td>\n",
              "      <td>1.0</td>\n",
              "      <td>2000-12-31 23:00:55</td>\n",
              "      <td>Sci-Fi</td>\n",
              "      <td>14</td>\n",
              "      <td>train</td>\n",
              "      <td>1</td>\n",
              "      <td>1270</td>\n",
              "    </tr>\n",
              "    <tr>\n",
              "      <th>28157</th>\n",
              "      <td>0</td>\n",
              "      <td>2147</td>\n",
              "      <td>1.0</td>\n",
              "      <td>2000-12-31 23:01:43</td>\n",
              "      <td>Romance</td>\n",
              "      <td>13</td>\n",
              "      <td>train</td>\n",
              "      <td>1</td>\n",
              "      <td>2340</td>\n",
              "    </tr>\n",
              "  </tbody>\n",
              "</table>\n",
              "</div>\n",
              "    <div class=\"colab-df-buttons\">\n",
              "\n",
              "  <div class=\"colab-df-container\">\n",
              "    <button class=\"colab-df-convert\" onclick=\"convertToInteractive('df-9c9e39ba-8d4c-4ec1-85b9-06a632d1f906')\"\n",
              "            title=\"Convert this dataframe to an interactive table.\"\n",
              "            style=\"display:none;\">\n",
              "\n",
              "  <svg xmlns=\"http://www.w3.org/2000/svg\" height=\"24px\" viewBox=\"0 -960 960 960\">\n",
              "    <path d=\"M120-120v-720h720v720H120Zm60-500h600v-160H180v160Zm220 220h160v-160H400v160Zm0 220h160v-160H400v160ZM180-400h160v-160H180v160Zm440 0h160v-160H620v160ZM180-180h160v-160H180v160Zm440 0h160v-160H620v160Z\"/>\n",
              "  </svg>\n",
              "    </button>\n",
              "\n",
              "  <style>\n",
              "    .colab-df-container {\n",
              "      display:flex;\n",
              "      gap: 12px;\n",
              "    }\n",
              "\n",
              "    .colab-df-convert {\n",
              "      background-color: #E8F0FE;\n",
              "      border: none;\n",
              "      border-radius: 50%;\n",
              "      cursor: pointer;\n",
              "      display: none;\n",
              "      fill: #1967D2;\n",
              "      height: 32px;\n",
              "      padding: 0 0 0 0;\n",
              "      width: 32px;\n",
              "    }\n",
              "\n",
              "    .colab-df-convert:hover {\n",
              "      background-color: #E2EBFA;\n",
              "      box-shadow: 0px 1px 2px rgba(60, 64, 67, 0.3), 0px 1px 3px 1px rgba(60, 64, 67, 0.15);\n",
              "      fill: #174EA6;\n",
              "    }\n",
              "\n",
              "    .colab-df-buttons div {\n",
              "      margin-bottom: 4px;\n",
              "    }\n",
              "\n",
              "    [theme=dark] .colab-df-convert {\n",
              "      background-color: #3B4455;\n",
              "      fill: #D2E3FC;\n",
              "    }\n",
              "\n",
              "    [theme=dark] .colab-df-convert:hover {\n",
              "      background-color: #434B5C;\n",
              "      box-shadow: 0px 1px 3px 1px rgba(0, 0, 0, 0.15);\n",
              "      filter: drop-shadow(0px 1px 2px rgba(0, 0, 0, 0.3));\n",
              "      fill: #FFFFFF;\n",
              "    }\n",
              "  </style>\n",
              "\n",
              "    <script>\n",
              "      const buttonEl =\n",
              "        document.querySelector('#df-9c9e39ba-8d4c-4ec1-85b9-06a632d1f906 button.colab-df-convert');\n",
              "      buttonEl.style.display =\n",
              "        google.colab.kernel.accessAllowed ? 'block' : 'none';\n",
              "\n",
              "      async function convertToInteractive(key) {\n",
              "        const element = document.querySelector('#df-9c9e39ba-8d4c-4ec1-85b9-06a632d1f906');\n",
              "        const dataTable =\n",
              "          await google.colab.kernel.invokeFunction('convertToInteractive',\n",
              "                                                    [key], {});\n",
              "        if (!dataTable) return;\n",
              "\n",
              "        const docLinkHtml = 'Like what you see? Visit the ' +\n",
              "          '<a target=\"_blank\" href=https://colab.research.google.com/notebooks/data_table.ipynb>data table notebook</a>'\n",
              "          + ' to learn more about interactive tables.';\n",
              "        element.innerHTML = '';\n",
              "        dataTable['output_type'] = 'display_data';\n",
              "        await google.colab.output.renderOutput(dataTable, element);\n",
              "        const docLink = document.createElement('div');\n",
              "        docLink.innerHTML = docLinkHtml;\n",
              "        element.appendChild(docLink);\n",
              "      }\n",
              "    </script>\n",
              "  </div>\n",
              "\n",
              "\n",
              "<div id=\"df-f42c6803-2489-40cf-b859-c9e9fea623ed\">\n",
              "  <button class=\"colab-df-quickchart\" onclick=\"quickchart('df-f42c6803-2489-40cf-b859-c9e9fea623ed')\"\n",
              "            title=\"Suggest charts\"\n",
              "            style=\"display:none;\">\n",
              "\n",
              "<svg xmlns=\"http://www.w3.org/2000/svg\" height=\"24px\"viewBox=\"0 0 24 24\"\n",
              "     width=\"24px\">\n",
              "    <g>\n",
              "        <path d=\"M19 3H5c-1.1 0-2 .9-2 2v14c0 1.1.9 2 2 2h14c1.1 0 2-.9 2-2V5c0-1.1-.9-2-2-2zM9 17H7v-7h2v7zm4 0h-2V7h2v10zm4 0h-2v-4h2v4z\"/>\n",
              "    </g>\n",
              "</svg>\n",
              "  </button>\n",
              "\n",
              "<style>\n",
              "  .colab-df-quickchart {\n",
              "      --bg-color: #E8F0FE;\n",
              "      --fill-color: #1967D2;\n",
              "      --hover-bg-color: #E2EBFA;\n",
              "      --hover-fill-color: #174EA6;\n",
              "      --disabled-fill-color: #AAA;\n",
              "      --disabled-bg-color: #DDD;\n",
              "  }\n",
              "\n",
              "  [theme=dark] .colab-df-quickchart {\n",
              "      --bg-color: #3B4455;\n",
              "      --fill-color: #D2E3FC;\n",
              "      --hover-bg-color: #434B5C;\n",
              "      --hover-fill-color: #FFFFFF;\n",
              "      --disabled-bg-color: #3B4455;\n",
              "      --disabled-fill-color: #666;\n",
              "  }\n",
              "\n",
              "  .colab-df-quickchart {\n",
              "    background-color: var(--bg-color);\n",
              "    border: none;\n",
              "    border-radius: 50%;\n",
              "    cursor: pointer;\n",
              "    display: none;\n",
              "    fill: var(--fill-color);\n",
              "    height: 32px;\n",
              "    padding: 0;\n",
              "    width: 32px;\n",
              "  }\n",
              "\n",
              "  .colab-df-quickchart:hover {\n",
              "    background-color: var(--hover-bg-color);\n",
              "    box-shadow: 0 1px 2px rgba(60, 64, 67, 0.3), 0 1px 3px 1px rgba(60, 64, 67, 0.15);\n",
              "    fill: var(--button-hover-fill-color);\n",
              "  }\n",
              "\n",
              "  .colab-df-quickchart-complete:disabled,\n",
              "  .colab-df-quickchart-complete:disabled:hover {\n",
              "    background-color: var(--disabled-bg-color);\n",
              "    fill: var(--disabled-fill-color);\n",
              "    box-shadow: none;\n",
              "  }\n",
              "\n",
              "  .colab-df-spinner {\n",
              "    border: 2px solid var(--fill-color);\n",
              "    border-color: transparent;\n",
              "    border-bottom-color: var(--fill-color);\n",
              "    animation:\n",
              "      spin 1s steps(1) infinite;\n",
              "  }\n",
              "\n",
              "  @keyframes spin {\n",
              "    0% {\n",
              "      border-color: transparent;\n",
              "      border-bottom-color: var(--fill-color);\n",
              "      border-left-color: var(--fill-color);\n",
              "    }\n",
              "    20% {\n",
              "      border-color: transparent;\n",
              "      border-left-color: var(--fill-color);\n",
              "      border-top-color: var(--fill-color);\n",
              "    }\n",
              "    30% {\n",
              "      border-color: transparent;\n",
              "      border-left-color: var(--fill-color);\n",
              "      border-top-color: var(--fill-color);\n",
              "      border-right-color: var(--fill-color);\n",
              "    }\n",
              "    40% {\n",
              "      border-color: transparent;\n",
              "      border-right-color: var(--fill-color);\n",
              "      border-top-color: var(--fill-color);\n",
              "    }\n",
              "    60% {\n",
              "      border-color: transparent;\n",
              "      border-right-color: var(--fill-color);\n",
              "    }\n",
              "    80% {\n",
              "      border-color: transparent;\n",
              "      border-right-color: var(--fill-color);\n",
              "      border-bottom-color: var(--fill-color);\n",
              "    }\n",
              "    90% {\n",
              "      border-color: transparent;\n",
              "      border-bottom-color: var(--fill-color);\n",
              "    }\n",
              "  }\n",
              "</style>\n",
              "\n",
              "  <script>\n",
              "    async function quickchart(key) {\n",
              "      const quickchartButtonEl =\n",
              "        document.querySelector('#' + key + ' button');\n",
              "      quickchartButtonEl.disabled = true;  // To prevent multiple clicks.\n",
              "      quickchartButtonEl.classList.add('colab-df-spinner');\n",
              "      try {\n",
              "        const charts = await google.colab.kernel.invokeFunction(\n",
              "            'suggestCharts', [key], {});\n",
              "      } catch (error) {\n",
              "        console.error('Error during call to suggestCharts:', error);\n",
              "      }\n",
              "      quickchartButtonEl.classList.remove('colab-df-spinner');\n",
              "      quickchartButtonEl.classList.add('colab-df-quickchart-complete');\n",
              "    }\n",
              "    (() => {\n",
              "      let quickchartButtonEl =\n",
              "        document.querySelector('#df-f42c6803-2489-40cf-b859-c9e9fea623ed button');\n",
              "      quickchartButtonEl.style.display =\n",
              "        google.colab.kernel.accessAllowed ? 'block' : 'none';\n",
              "    })();\n",
              "  </script>\n",
              "</div>\n",
              "    </div>\n",
              "  </div>\n"
            ]
          },
          "metadata": {},
          "execution_count": 17
        }
      ],
      "source": [
        "traintest.head()"
      ]
    },
    {
      "cell_type": "markdown",
      "metadata": {
        "id": "s4E-1R1-_RZX"
      },
      "source": [
        "For the sake of replicability and efficiency of this tutorial, we will save the pre-computed train and test sets in ./data/outputs/splits"
      ]
    },
    {
      "cell_type": "code",
      "execution_count": null,
      "metadata": {
        "id": "6H0vnp2j_RZX"
      },
      "outputs": [],
      "source": [
        "traintest.to_csv(os.path.join(data_path, 'outputs/splits/' + dataset + '_' + smode + '.csv'))"
      ]
    },
    {
      "cell_type": "markdown",
      "metadata": {
        "id": "LiPHiJ-m_RZX"
      },
      "source": [
        "## Run the model train and test"
      ]
    },
    {
      "cell_type": "markdown",
      "metadata": {
        "id": "RM2iv-Hs_RZX"
      },
      "source": [
        "We will create two dataframes, one with train feedback and another with test feedback, from the pre-computed split data."
      ]
    },
    {
      "cell_type": "code",
      "execution_count": null,
      "metadata": {
        "id": "nxVkusKj_RZX"
      },
      "outputs": [],
      "source": [
        "train = traintest[traintest['set']=='train'].copy()\n",
        "test = traintest[traintest['set']=='test'].copy()"
      ]
    },
    {
      "cell_type": "code",
      "execution_count": null,
      "metadata": {
        "id": "BO46rtRD_RZc"
      },
      "outputs": [],
      "source": [
        "users = list(np.unique(traintest[user_field].values))\n",
        "items = list(np.unique(traintest[item_field].values))"
      ]
    },
    {
      "cell_type": "code",
      "execution_count": null,
      "metadata": {
        "id": "I3gocxil_RZc",
        "outputId": "44cdd54b-1950-45fb-aee4-68f63fdbb1af",
        "colab": {
          "base_uri": "https://localhost:8080/"
        }
      },
      "outputs": [
        {
          "output_type": "execute_result",
          "data": {
            "text/plain": [
              "(6040, 3706)"
            ]
          },
          "metadata": {},
          "execution_count": 21
        }
      ],
      "source": [
        "len(users), len(items)"
      ]
    },
    {
      "cell_type": "code",
      "execution_count": null,
      "metadata": {
        "id": "pprKdOHZ_RZc"
      },
      "outputs": [],
      "source": [
        "category_per_item = traintest.drop_duplicates(subset=['item_id'], keep='first')[type_field].values"
      ]
    },
    {
      "cell_type": "code",
      "execution_count": null,
      "metadata": {
        "id": "pKyq30gy_RZc",
        "outputId": "dcd24965-c972-40a5-dd2f-9c0dca852dd4",
        "colab": {
          "base_uri": "https://localhost:8080/"
        }
      },
      "outputs": [
        {
          "output_type": "execute_result",
          "data": {
            "text/plain": [
              "18"
            ]
          },
          "metadata": {},
          "execution_count": 23
        }
      ],
      "source": [
        "len(np.unique(category_per_item))"
      ]
    },
    {
      "cell_type": "markdown",
      "metadata": {
        "id": "ImghOdMk_RZc"
      },
      "source": [
        "For the sake of easiness, we will focus on four main recommendation strategies:\n",
        "- Random\n",
        "- MostPop\n",
        "- PointWise\n",
        "- PairWise"
      ]
    },
    {
      "cell_type": "code",
      "execution_count": null,
      "metadata": {
        "id": "u2WUw8ps_RZc"
      },
      "outputs": [],
      "source": [
        "model_types = {'random': Random, 'mostpop': MostPop, 'pointwise': PointWise, 'pairwise': PairWise}"
      ]
    },
    {
      "cell_type": "markdown",
      "metadata": {
        "id": "a8X_GvSc_RZc"
      },
      "source": [
        "First, we need to initialize the model. We will see how the process works for a PairWise algorithm. Then, we will consider the other ones."
      ]
    },
    {
      "cell_type": "code",
      "execution_count": null,
      "metadata": {
        "id": "zB0oUNHM_RZc",
        "outputId": "bd038bf2-6793-40f9-f937-2e3c3029448f",
        "colab": {
          "base_uri": "https://localhost:8080/"
        }
      },
      "outputs": [
        {
          "output_type": "stream",
          "name": "stdout",
          "text": [
            "Initializing user, item, and categories lists\n",
            "Initializing observed, unobserved, and predicted relevance scores\n",
            "Initializing item popularity lists\n",
            "Initializing category per item\n",
            "Initializing category preference per user\n",
            "Initializing metrics\n"
          ]
        }
      ],
      "source": [
        "model_type = 'pairwise'\n",
        "model = PairWise(users, items, train, test, category_per_item, item_field, user_field, rating_field)"
      ]
    },
    {
      "cell_type": "markdown",
      "metadata": {
        "id": "fjyPWT18_RZc"
      },
      "source": [
        "We will train the model by feeding the train data we previously prepared, with the following default values.\n",
        "\n",
        "- **no_epochs** (default: 100)\n",
        "- **batches** (default: 1024)\n",
        "- **lr** (default: 0.001)\n",
        "- **no_factors** (default: 10)\n",
        "- **no_negatives** (default: 10)\n",
        "- **val_split** (default: 0.0001)"
      ]
    },
    {
      "cell_type": "code",
      "execution_count": null,
      "metadata": {
        "id": "tBk1Z-9f_RZc",
        "outputId": "a9f75265-6fbf-4f8f-edc6-304fe80c1a4d",
        "colab": {
          "base_uri": "https://localhost:8080/"
        }
      },
      "outputs": [
        {
          "output_type": "stream",
          "name": "stdout",
          "text": [
            "Generating training instances of type pair\n",
            "Computing instances for interaction 800000 / 803798 of type pair\n",
            "Performing training - Epochs 5 Batch Size 1024 Learning Rate 0.001 Factors 10 Negatives 10 Mode pair\n"
          ]
        },
        {
          "output_type": "stream",
          "name": "stderr",
          "text": [
            "WARNING:absl:`lr` is deprecated in Keras optimizer, please use `learning_rate` or use the legacy optimizer, e.g.,tf.keras.optimizers.legacy.Adam.\n"
          ]
        },
        {
          "output_type": "stream",
          "name": "stdout",
          "text": [
            "7772/7772 [==============================] - 64s 8ms/step - loss: 0.1919\n",
            "Validation accuracy: 0.8583392707591155 (Sample 80000 of 80380)\n",
            "Epoch 2/2\n",
            "7772/7772 [==============================] - 32s 4ms/step - loss: 0.1346\n",
            "Epoch 3/3\n",
            "7772/7772 [==============================] - 34s 4ms/step - loss: 0.1092\n",
            "Epoch 4/4\n",
            "7772/7772 [==============================] - 33s 4ms/step - loss: 0.0966\n",
            "Epoch 5/5\n",
            "7772/7772 [==============================] - 31s 4ms/step - loss: 0.0899\n",
            "Validation accuracy: 0.9150885613929826 (Sample 80000 of 80380)\n"
          ]
        }
      ],
      "source": [
        "model.train(no_epochs=5) # For the sake of tutorial efficiency, we force to stop after 5 epochs"
      ]
    },
    {
      "cell_type": "markdown",
      "metadata": {
        "id": "BpfZuFYK_RZc"
      },
      "source": [
        "The architecture of the trained model looks as follows."
      ]
    },
    {
      "cell_type": "code",
      "execution_count": null,
      "metadata": {
        "id": "7qFAnZ86_RZc",
        "outputId": "5072e0c4-7ef1-4c0f-fba8-0cc565ef51f2",
        "colab": {
          "base_uri": "https://localhost:8080/"
        }
      },
      "outputs": [
        {
          "output_type": "stream",
          "name": "stdout",
          "text": [
            "Model: \"model\"\n",
            "__________________________________________________________________________________________________\n",
            " Layer (type)                Output Shape                 Param #   Connected to                  \n",
            "==================================================================================================\n",
            " UserInput (InputLayer)      [(None, 1)]                  0         []                            \n",
            "                                                                                                  \n",
            " PosItemInput (InputLayer)   [(None, 1)]                  0         []                            \n",
            "                                                                                                  \n",
            " NegItemInput (InputLayer)   [(None, 1)]                  0         []                            \n",
            "                                                                                                  \n",
            " UserEmb (Embedding)         (None, 1, 10)                60410     ['UserInput[0][0]']           \n",
            "                                                                                                  \n",
            " ItemEmb (Embedding)         (None, 1, 10)                37070     ['PosItemInput[0][0]',        \n",
            "                                                                     'NegItemInput[0][0]']        \n",
            "                                                                                                  \n",
            " FlatUserEmb (Flatten)       (None, 10)                   0         ['UserEmb[0][0]']             \n",
            "                                                                                                  \n",
            " FlatPosItemEmb (Flatten)    (None, 10)                   0         ['ItemEmb[0][0]']             \n",
            "                                                                                                  \n",
            " FlatNegItemEmb (Flatten)    (None, 10)                   0         ['ItemEmb[1][0]']             \n",
            "                                                                                                  \n",
            " Accuracy (Lambda)           (None, 1)                    0         ['FlatUserEmb[0][0]',         \n",
            "                                                                     'FlatPosItemEmb[0][0]',      \n",
            "                                                                     'FlatNegItemEmb[0][0]']      \n",
            "                                                                                                  \n",
            "==================================================================================================\n",
            "Total params: 97480 (380.78 KB)\n",
            "Trainable params: 97480 (380.78 KB)\n",
            "Non-trainable params: 0 (0.00 Byte)\n",
            "__________________________________________________________________________________________________\n"
          ]
        }
      ],
      "source": [
        "model.print()"
      ]
    },
    {
      "cell_type": "markdown",
      "metadata": {
        "id": "hqAL9m4D_RZc"
      },
      "source": [
        "## Compute user-item relevance scores"
      ]
    },
    {
      "cell_type": "markdown",
      "metadata": {
        "id": "zv_zTcgi_RZc"
      },
      "source": [
        "Now, we will use the pre-trained model to predict the user-item relevance scores."
      ]
    },
    {
      "cell_type": "code",
      "execution_count": null,
      "metadata": {
        "id": "XMtjEfyh_RZc",
        "outputId": "2010f085-7b3d-4bf2-d23e-cd66894f15d3",
        "colab": {
          "base_uri": "https://localhost:8080/"
        }
      },
      "outputs": [
        {
          "output_type": "stream",
          "name": "stdout",
          "text": [
            "Computing predictions for user 6000 / 6040"
          ]
        }
      ],
      "source": [
        "model.predict()"
      ]
    },
    {
      "cell_type": "code",
      "execution_count": null,
      "metadata": {
        "id": "sXSwCUZf_RZc"
      },
      "outputs": [],
      "source": [
        "scores = model.get_predictions()"
      ]
    },
    {
      "cell_type": "markdown",
      "metadata": {
        "id": "W07dpJo8_RZc"
      },
      "source": [
        "As we expected, the predicted scores are stored in a matrix of shape np_users x no_items."
      ]
    },
    {
      "cell_type": "code",
      "execution_count": null,
      "metadata": {
        "id": "DjtKsV9z_RZd",
        "outputId": "81c0926a-61be-45d8-b057-873e68b384dc",
        "colab": {
          "base_uri": "https://localhost:8080/"
        }
      },
      "outputs": [
        {
          "output_type": "execute_result",
          "data": {
            "text/plain": [
              "(6040, 3706)"
            ]
          },
          "metadata": {},
          "execution_count": 30
        }
      ],
      "source": [
        "scores.shape"
      ]
    },
    {
      "cell_type": "markdown",
      "metadata": {
        "id": "HSHenjOn_RZd"
      },
      "source": [
        "Hence, we can access to the relevance score of the user 120 for the item 320 as follows."
      ]
    },
    {
      "cell_type": "code",
      "execution_count": null,
      "metadata": {
        "id": "sUbGjdXD_RZd",
        "outputId": "e4f85d82-db5a-42c2-f1ea-5ee43829284a",
        "colab": {
          "base_uri": "https://localhost:8080/"
        }
      },
      "outputs": [
        {
          "output_type": "execute_result",
          "data": {
            "text/plain": [
              "4.0477118492126465"
            ]
          },
          "metadata": {},
          "execution_count": 31
        }
      ],
      "source": [
        "user_id, item_id = 120, 320\n",
        "scores[user_id, item_id]"
      ]
    },
    {
      "cell_type": "markdown",
      "metadata": {
        "id": "on2DFwVk_RZd"
      },
      "source": [
        "For the sake of convenience, we will save the predicted scores."
      ]
    },
    {
      "cell_type": "code",
      "execution_count": null,
      "metadata": {
        "id": "4w-hEOkh_RZd"
      },
      "outputs": [],
      "source": [
        "save_obj(scores, os.path.join(data_path, 'outputs/predictions/' + dataset + '_' + smode + '_' + model_type + '_scores.pkl'))"
      ]
    },
    {
      "cell_type": "markdown",
      "metadata": {
        "id": "Jya3oZoO_RZd"
      },
      "source": [
        "## Calculate metrics"
      ]
    },
    {
      "cell_type": "markdown",
      "metadata": {
        "id": "2_w4lkqn_RZd"
      },
      "source": [
        "In this step, we leverage the predicted scores in order to compute a set of common recommendation metrics."
      ]
    },
    {
      "cell_type": "code",
      "execution_count": null,
      "metadata": {
        "id": "thddo-E9_RZd"
      },
      "outputs": [],
      "source": [
        "cutoffs = np.array([5, 10, 20])"
      ]
    },
    {
      "cell_type": "code",
      "execution_count": null,
      "metadata": {
        "id": "RWiaO43y_RZd"
      },
      "outputs": [],
      "source": [
        "item_group = load_obj(os.path.join(data_path, 'datasets', 'ml1m-item-group'))\n",
        "# we discuss this point in detail in the third notebook"
      ]
    },
    {
      "cell_type": "code",
      "execution_count": null,
      "metadata": {
        "id": "cbbHTWdf_RZd",
        "outputId": "70eff512-9078-4e44-9304-775032dc8621",
        "colab": {
          "base_uri": "https://localhost:8080/"
        }
      },
      "outputs": [
        {
          "output_type": "stream",
          "name": "stdout",
          "text": [
            "Computing metrics for user 6000 / 6040"
          ]
        }
      ],
      "source": [
        "model.test(item_group=item_group, cutoffs=cutoffs)"
      ]
    },
    {
      "cell_type": "markdown",
      "metadata": {
        "id": "nmSqSCqX_RZd"
      },
      "source": [
        "The method has pre-computed a set of metrics and saved the corresponding values in a Python dictionary, as detailed below."
      ]
    },
    {
      "cell_type": "code",
      "execution_count": null,
      "metadata": {
        "id": "70C5qdgK_RZd"
      },
      "outputs": [],
      "source": [
        "metrics = model.get_metrics()"
      ]
    },
    {
      "cell_type": "code",
      "execution_count": null,
      "metadata": {
        "id": "L_Yk3txl_RZd",
        "outputId": "467e3551-67e7-4679-f942-a1f36a55bddb",
        "colab": {
          "base_uri": "https://localhost:8080/"
        }
      },
      "outputs": [
        {
          "output_type": "execute_result",
          "data": {
            "text/plain": [
              "dict_keys(['precision', 'recall', 'ndcg', 'hit', 'mean_popularity', 'diversity', 'novelty', 'item_coverage', 'visibility', 'exposure'])"
            ]
          },
          "metadata": {},
          "execution_count": 37
        }
      ],
      "source": [
        "metrics.keys()"
      ]
    },
    {
      "cell_type": "markdown",
      "metadata": {
        "id": "xF4T99MH_RZd"
      },
      "source": [
        "The values for each metrics have been computed and store for each cutoff."
      ]
    },
    {
      "cell_type": "code",
      "execution_count": null,
      "metadata": {
        "id": "oiJMBwb0_RZd",
        "outputId": "d0661704-e6e7-4751-c0f6-1ae93942b658",
        "colab": {
          "base_uri": "https://localhost:8080/"
        }
      },
      "outputs": [
        {
          "output_type": "stream",
          "name": "stdout",
          "text": [
            "(3, 6040) precision\n",
            "(3, 6040) recall\n",
            "(3, 6040) ndcg\n",
            "(3, 6040) hit\n",
            "(3, 6040) mean_popularity\n",
            "(3, 6040) diversity\n",
            "(3, 6040) novelty\n",
            "(3, 3706) item_coverage\n",
            "(3, 6040) visibility\n",
            "(3, 6040) exposure\n"
          ]
        }
      ],
      "source": [
        "for name, values in metrics.items():\n",
        "    print(values.shape, name)"
      ]
    },
    {
      "cell_type": "markdown",
      "metadata": {
        "id": "04DvDsOF_RZd"
      },
      "source": [
        "For instance, we can access to the NDCG score for the user 120 at cutoff 10, with the following commands."
      ]
    },
    {
      "cell_type": "code",
      "execution_count": null,
      "metadata": {
        "id": "709OtKu8_RZd",
        "outputId": "36f66f3b-1e5f-48f0-ee02-9219a3a52d62",
        "colab": {
          "base_uri": "https://localhost:8080/"
        }
      },
      "outputs": [
        {
          "output_type": "execute_result",
          "data": {
            "text/plain": [
              "0.2614432242450502"
            ]
          },
          "metadata": {},
          "execution_count": 39
        }
      ],
      "source": [
        "user_id, cutoff_index = 1324, int(np.where(cutoffs == 10)[0])\n",
        "metrics['ndcg'][cutoff_index, user_id]"
      ]
    },
    {
      "cell_type": "markdown",
      "metadata": {
        "id": "NPPMYJQC_RZd"
      },
      "source": [
        "For the sake of convenience, we will save the compted metrics."
      ]
    },
    {
      "cell_type": "code",
      "execution_count": null,
      "metadata": {
        "id": "zwiDIWNX_RZd"
      },
      "outputs": [],
      "source": [
        "save_obj(metrics, os.path.join(data_path, 'outputs/metrics/' + dataset + '_' + smode + '_' + model_type + '_metrics.pkl'))"
      ]
    },
    {
      "cell_type": "markdown",
      "metadata": {
        "id": "USBv7_dl_RZd"
      },
      "source": [
        "We can also see the aggregated values."
      ]
    },
    {
      "cell_type": "code",
      "execution_count": null,
      "metadata": {
        "id": "dWocgwSg_RZd",
        "outputId": "76729a40-02c4-44c2-c885-a5e4514bb8b2",
        "colab": {
          "base_uri": "https://localhost:8080/"
        }
      },
      "outputs": [
        {
          "output_type": "stream",
          "name": "stdout",
          "text": [
            "Precision: 0.1166 \n",
            "Recall: 0.0481 \n",
            "NDCG: 0.126 \n",
            "Hit Rate: 0.5109 \n",
            "Avg Popularity: 1971.863 \n",
            "Category Diversity: 0.3146 \n",
            "Novelty: 1.7371 \n",
            "Item Coverage: 0.2 \n",
            "User Coverage: 0.5109\n",
            "Minority Exposure: 0.0354\n",
            "Minority Visibility: 0.0361\n"
          ]
        }
      ],
      "source": [
        "model.show_metrics(index_k=int(np.where(cutoffs == 10)[0]))"
      ]
    },
    {
      "cell_type": "markdown",
      "metadata": {
        "id": "x-MDMi6B_RZd"
      },
      "source": [
        "## Repeat the experimental pipeline for Random and MostPop (optionally for PointWise)"
      ]
    },
    {
      "cell_type": "markdown",
      "metadata": {
        "id": "HMfiCVwM_RZe"
      },
      "source": [
        "We will define a utility function to perform ll the above operations jointly."
      ]
    },
    {
      "cell_type": "code",
      "execution_count": null,
      "metadata": {
        "id": "_rfgdFKP_RZe"
      },
      "outputs": [],
      "source": [
        "def run_model(model_type, no_epochs=None):\n",
        "    print('Running model', model_type)\n",
        "    model = model_types[model_type](users, items, train, test, category_per_item, item_field, user_field, rating_field)\n",
        "    model.train(no_epochs=no_epochs) if no_epochs else model.train()\n",
        "    model.predict()\n",
        "    scores = model.get_predictions()\n",
        "    save_obj(scores, os.path.join(data_path, 'outputs/predictions/' + dataset + '_' + smode + '_' + model_type + '_scores.pkl'))\n",
        "    model.test(item_group=item_group, cutoffs=cutoffs)\n",
        "    metrics = model.get_metrics()\n",
        "    save_obj(metrics, os.path.join(data_path, 'outputs/metrics/' + dataset + '_' + smode + '_' + model_type + '_metrics.pkl'))\n",
        "    print()\n",
        "    model.show_metrics(index_k=int(np.where(cutoffs == 10)[0]))"
      ]
    },
    {
      "cell_type": "code",
      "execution_count": null,
      "metadata": {
        "id": "NCx1O-Mv_RZe",
        "outputId": "47fc8705-40e2-4d6d-f289-042f09aa25d1",
        "colab": {
          "base_uri": "https://localhost:8080/"
        }
      },
      "outputs": [
        {
          "output_type": "stream",
          "name": "stdout",
          "text": [
            "Running model random\n",
            "Initializing user, item, and categories lists\n",
            "Initializing observed, unobserved, and predicted relevance scores\n",
            "Initializing item popularity lists\n",
            "Initializing category per item\n",
            "Initializing category preference per user\n",
            "Initializing metrics\n",
            "Computing metrics for user 6000 / 6040\n",
            "Precision: 0.0098 \n",
            "Recall: 0.0028 \n",
            "NDCG: 0.01 \n",
            "Hit Rate: 0.0866 \n",
            "Avg Popularity: 195.0382 \n",
            "Category Diversity: 0.3289 \n",
            "Novelty: 7.0273 \n",
            "Item Coverage: 1.0 \n",
            "User Coverage: 0.0866\n",
            "Minority Exposure: 0.1651\n",
            "Minority Visibility: 0.1657\n"
          ]
        }
      ],
      "source": [
        "run_model('random')"
      ]
    },
    {
      "cell_type": "code",
      "execution_count": null,
      "metadata": {
        "id": "pnDAY2VY_RZe",
        "outputId": "2a270e5c-1930-4bc0-94f8-58fcde9bcad2",
        "colab": {
          "base_uri": "https://localhost:8080/"
        }
      },
      "outputs": [
        {
          "output_type": "stream",
          "name": "stdout",
          "text": [
            "Running model mostpop\n",
            "Initializing user, item, and categories lists\n",
            "Initializing observed, unobserved, and predicted relevance scores\n",
            "Initializing item popularity lists\n",
            "Initializing category per item\n",
            "Initializing category preference per user\n",
            "Initializing metrics\n",
            "Computing metrics for user 6000 / 6040\n",
            "Precision: 0.1007 \n",
            "Recall: 0.0384 \n",
            "NDCG: 0.1096 \n",
            "Hit Rate: 0.4422 \n",
            "Avg Popularity: 2328.0848 \n",
            "Category Diversity: 0.3293 \n",
            "Novelty: 1.3922 \n",
            "Item Coverage: 0.03 \n",
            "User Coverage: 0.4422\n",
            "Minority Exposure: 0.0509\n",
            "Minority Visibility: 0.0616\n"
          ]
        }
      ],
      "source": [
        "run_model('mostpop')"
      ]
    },
    {
      "cell_type": "code",
      "execution_count": null,
      "metadata": {
        "id": "_er19l2E_RZe"
      },
      "outputs": [],
      "source": [
        "# run_model('pointwise', no_epochs=5)"
      ]
    },
    {
      "cell_type": "markdown",
      "metadata": {
        "id": "S8LupZba_RZe"
      },
      "source": [
        "## How to extend the toolbox\n",
        "\n",
        "- New splitter: take a look at the helpers/train_test_splitter.py file and how the existing generators have been defined.\n",
        "- New train instances creator: similarly, take a look at the helpers/instances_creator.py file and how the existing generators have been defined.\n",
        "- New model: a new subclass of the Model class defined in models/model.py should be defined, implementing a 'train' and a 'predict' method.\n",
        "- New metrics: both the 'test' and 'show_metrics' methods of models/model.py should be extended with the computation needed by the new metric.  "
      ]
    },
    {
      "cell_type": "code",
      "execution_count": null,
      "metadata": {
        "id": "y_jMKCMj_RZe"
      },
      "outputs": [],
      "source": [
        "data =  pd.read_csv('../data/outputs/splits/' + dataset + '_' + smode + '.csv', encoding='utf8')"
      ]
    },
    {
      "cell_type": "code",
      "source": [
        "item_pop = data.groupby([item_field]).count().sort_values(user_field, ascending=False)[user_field]"
      ],
      "metadata": {
        "id": "HxhKd7cnxr3k"
      },
      "execution_count": null,
      "outputs": []
    },
    {
      "cell_type": "code",
      "source": [
        "item_pop.head()"
      ],
      "metadata": {
        "id": "PsvP6rccxuaj",
        "outputId": "c335d726-c3d7-4878-ce3f-76fba4075000",
        "colab": {
          "base_uri": "https://localhost:8080/"
        }
      },
      "execution_count": null,
      "outputs": [
        {
          "output_type": "execute_result",
          "data": {
            "text/plain": [
              "item_id\n",
              "2651    3428\n",
              "253     2991\n",
              "1106    2990\n",
              "1120    2883\n",
              "466     2672\n",
              "Name: user_id, dtype: int64"
            ]
          },
          "metadata": {},
          "execution_count": 47
        }
      ]
    },
    {
      "cell_type": "markdown",
      "source": [
        "For the sake of easiness, we conduct our study focusing on two sets of items: most popular items and less popular items. To this end, we will consider the most popular 800 items in the first set, while the remaining items are included in the second set. Several ways to split items in these two sets arefound in literature (e.g., most popular items that receive the 80% of the overall ratings).    \n"
      ],
      "metadata": {
        "id": "HHuieB1bx0_B"
      }
    },
    {
      "cell_type": "code",
      "source": [
        "head_tail_split = 808\n",
        "head_tail_items = np.array(item_pop[:head_tail_split].index)\n",
        "long_tail_items = np.array(item_pop[head_tail_split:].index)"
      ],
      "metadata": {
        "id": "OpiYHPNBxv_K"
      },
      "execution_count": null,
      "outputs": []
    },
    {
      "cell_type": "code",
      "source": [
        "print('Head Tail', compute_gini(item_pop[:head_tail_split]))\n",
        "print('Long Tail', compute_gini(item_pop[head_tail_split:]))"
      ],
      "metadata": {
        "id": "IA5NPfwpx3FX",
        "outputId": "4ab62e29-36f0-4036-9b8b-78eab323463e",
        "colab": {
          "base_uri": "https://localhost:8080/"
        }
      },
      "execution_count": null,
      "outputs": [
        {
          "output_type": "stream",
          "name": "stdout",
          "text": [
            "Head Tail 0.2746823308765163\n",
            "Long Tail 0.5250342105989467\n"
          ]
        }
      ]
    },
    {
      "cell_type": "code",
      "source": [
        "plt.rcParams.update({'font.size': 8})\n",
        "plt.figure(figsize=(6, 3.5))\n",
        "\n",
        "plt.title(r'Item popularity')\n",
        "plt.xlabel('Items ranked by popularity')\n",
        "plt.ylabel('Number of ratings in the dataset')\n",
        "plt.plot(range(head_tail_split), item_pop.values[:head_tail_split], alpha=0.7, label=r'Head tail')\n",
        "plt.plot(range(head_tail_split, len(item_pop.index)), item_pop.values[head_tail_split:], label=r'Long tail')\n",
        "plt.axhline(y=item_pop.values[head_tail_split], linestyle='--', lw=1, c='grey')\n",
        "plt.axvline(x=head_tail_split, linestyle='--', lw=1, c='grey')\n",
        "plt.xlim([-25, len(item_pop.index)])\n",
        "plt.ylim([-25, item_pop.values[0]])\n",
        "plt.legend()\n",
        "plt.tight_layout()"
      ],
      "metadata": {
        "id": "qMo5-23Mx4YO",
        "outputId": "514dfadb-e427-47bf-a6aa-94ccc6c3da17",
        "colab": {
          "base_uri": "https://localhost:8080/",
          "height": 363
        }
      },
      "execution_count": null,
      "outputs": [
        {
          "output_type": "display_data",
          "data": {
            "text/plain": [
              "<Figure size 600x350 with 1 Axes>"
            ],
            "image/png": "[encoded data removed]"
          },
          "metadata": {}
        }
      ]
    },
    {
      "cell_type": "markdown",
      "source": [
        "Please note how the curve is skewed towards items with only few ratings. In our case, most popular items are those receving more than 450 ratings. In the rest of this study, we will investigate how recommendation algorithms treat items belonging to these sets."
      ],
      "metadata": {
        "id": "LDE7KXoEyGZT"
      }
    },
    {
      "cell_type": "markdown",
      "source": [
        "## Data analysis: popularity of the recommended items"
      ],
      "metadata": {
        "id": "p-az2ks3yKii"
      }
    },
    {
      "cell_type": "markdown",
      "source": [
        "We will use the same cutoffs we have configured in the first notebook.\n",
        "\n",
        "**IMPORTANT BOOKMARK** Please bookmark this point."
      ],
      "metadata": {
        "id": "9S7IVIoSyIlK"
      }
    },
    {
      "cell_type": "code",
      "source": [
        "cutoffs = np.array([5, 10, 20])"
      ],
      "metadata": {
        "id": "jtMR0voUx6Lm"
      },
      "execution_count": null,
      "outputs": []
    },
    {
      "cell_type": "code",
      "source": [
        "model_types = ['utime_pairwise', 'utime_random', 'utime_mostpop']"
      ],
      "metadata": {
        "id": "GzTiykliyM0O"
      },
      "execution_count": null,
      "outputs": []
    },
    {
      "cell_type": "markdown",
      "source": [
        "To speed up, we will load the metrics pre-computed in the first notebook."
      ],
      "metadata": {
        "id": "pAyr7qJgyQBu"
      }
    },
    {
      "cell_type": "code",
      "source": [
        "metrics = {}\n",
        "for model_type in model_types:\n",
        "    metrics[model_type] = load_obj(os.path.join(data_path, 'outputs/metrics/' + dataset + '_' + model_type + '_metrics.pkl'))"
      ],
      "metadata": {
        "id": "_fxK2IZ7yOLw"
      },
      "execution_count": null,
      "outputs": []
    },
    {
      "cell_type": "markdown",
      "source": [
        "First, we will compare the considered algorithms based on their recommendation effectiveness: precision, recall, and NDCG."
      ],
      "metadata": {
        "id": "IcpIy7gczX1a"
      }
    },
    {
      "cell_type": "code",
      "source": [
        "plt.rcParams.update({'font.size': 16.5})\n",
        "plt.figure(figsize=(30, 7.5))\n",
        "\n",
        "plt.subplot(131)\n",
        "plt.title(r'Precision')\n",
        "plt.xlabel('Cutoff Value')\n",
        "plt.ylabel('Precision')\n",
        "for model_type in model_types:\n",
        "    plt.plot(cutoffs, [np.mean(metrics[model_type]['precision'][k,:]) for k in range(len(cutoffs))], label=model_type)\n",
        "plt.xticks(cutoffs)\n",
        "plt.legend()\n",
        "plt.grid(axis='y')\n",
        "\n",
        "plt.subplot(132)\n",
        "plt.title(r'Recall')\n",
        "plt.xlabel('Cutoff Value')\n",
        "plt.ylabel('Recall')\n",
        "for model_type in model_types:\n",
        "    plt.plot(cutoffs, [np.mean(metrics[model_type]['recall'][k,:]) for k in range(len(cutoffs))], label=model_type)\n",
        "plt.xticks(cutoffs)\n",
        "plt.legend()\n",
        "plt.grid(axis='y')\n",
        "\n",
        "plt.subplot(133)\n",
        "plt.title(r'NDCG')\n",
        "plt.xlabel('Cutoff Value')\n",
        "plt.ylabel('NDCG')\n",
        "for model_type in model_types:\n",
        "    plt.plot(cutoffs, [np.mean(metrics[model_type]['ndcg'][k,:]) for k in range(len(cutoffs))], label=model_type)\n",
        "plt.xticks(cutoffs)\n",
        "plt.legend()\n",
        "plt.grid(axis='y')\n",
        "\n",
        "plt.tight_layout()"
      ],
      "metadata": {
        "id": "T3Klc14GyR6q",
        "outputId": "5d755948-ac06-44a0-c21b-bf509ffa159b",
        "colab": {
          "base_uri": "https://localhost:8080/",
          "height": 219
        }
      },
      "execution_count": null,
      "outputs": [
        {
          "output_type": "display_data",
          "data": {
            "text/plain": [
              "<Figure size 3000x750 with 3 Axes>"
            ],
            "image/png": "[encoded data removed]"
          },
          "metadata": {}
        }
      ]
    },
    {
      "cell_type": "markdown",
      "source": [
        "Please note that pairwise and mostpop algorithms have a really similar behavior for all the considered metrics. Nove, we move our attention to the popularity of the recommended items and the coverage of the items we marked as \"less popular\".  "
      ],
      "metadata": {
        "id": "M10OQ6F0zb0n"
      }
    },
    {
      "cell_type": "code",
      "source": [
        "plt.rcParams.update({'font.size': 16.5})\n",
        "plt.figure(figsize=(30, 7.5))\n",
        "\n",
        "plt.subplot(131)\n",
        "plt.title(r'Average Popularity of Items')\n",
        "plt.xlabel('Cutoff Value')\n",
        "plt.ylabel('APT')\n",
        "for model_type in model_types:\n",
        "    plt.plot(cutoffs, [np.mean(metrics[model_type]['mean_popularity'][k,:]) for k in range(len(cutoffs))], label=model_type)\n",
        "plt.legend()\n",
        "\n",
        "plt.subplot(132)\n",
        "plt.title(r'Average Percentage of Less Popular Items')\n",
        "plt.xlabel('Cutoff Value')\n",
        "plt.ylabel('APLT')\n",
        "for model_type in model_types:\n",
        "    plt.plot(cutoffs, [np.sum(metrics[model_type]['item_coverage'][k,long_tail_items]) / np.sum(metrics[model_type]['item_coverage'][k,:]) for k in range(len(cutoffs))], label=model_type)\n",
        "plt.legend()\n",
        "\n",
        "plt.subplot(133)\n",
        "plt.title(r'Item Coverage')\n",
        "plt.xlabel('Cutoff Value')\n",
        "plt.ylabel('Item Coverage')\n",
        "for i, model_type in enumerate(model_types):\n",
        "    plt.plot(cutoffs, [len([1 for m in metrics[model_type]['item_coverage'][k,head_tail_items] if m > 0]) / len(head_tail_items) for k in range(len(cutoffs))], color='C'+str(i), linestyle='-', label='pop head of ' + model_type)\n",
        "    plt.plot(cutoffs, [len([1 for m in metrics[model_type]['item_coverage'][k,long_tail_items] if m > 0]) / len(long_tail_items) for k in range(len(cutoffs))], color='C'+str(i), linestyle=':', label='pop tail of ' + model_type)\n",
        "plt.legend()\n",
        "\n",
        "plt.tight_layout()"
      ],
      "metadata": {
        "id": "7i-yeqWizZSz",
        "outputId": "4208d456-d01c-43f3-e125-257d32e66375",
        "colab": {
          "base_uri": "https://localhost:8080/",
          "height": 219
        }
      },
      "execution_count": null,
      "outputs": [
        {
          "output_type": "display_data",
          "data": {
            "text/plain": [
              "<Figure size 3000x750 with 3 Axes>"
            ],
            "image/png": "[encoded data removed]"
          },
          "metadata": {}
        }
      ]
    },
    {
      "cell_type": "markdown",
      "source": [
        "These figures show us that the average popularity of items recommended by the pairwise algorithm is really high and not so far from the one of items recommended by mostpop. This observation is also confirmed by the coverage of items from the \"less popular\" set. For small cutoffs, pairwise and mostpop recommened only a tiny fraction of the less popular items."
      ],
      "metadata": {
        "id": "NQ1DnKPuzhTM"
      }
    },
    {
      "cell_type": "markdown",
      "source": [
        "## Sample treatment to promote less popular items: post-processing\n",
        "\n",
        "In this part, we will show how to setup and perform a post-processing mitigation approach. We show a didactic version of the xQuad algorithm adaptation proposed by Adbollahpouri et al. (2018). A model able to perform a re-ranking of the items has the same structure of the models we considered so far. Therefore, we first need to prepare all the data needed to initialize a model, as done in the first notebook."
      ],
      "metadata": {
        "id": "fKbiKujPzjP1"
      }
    },
    {
      "cell_type": "code",
      "source": [
        "traintest = pd.read_csv('../data/outputs/splits/' + dataset + '_' + smode + '.csv', encoding='utf8')"
      ],
      "metadata": {
        "id": "KJ2QwTl6zeQb"
      },
      "execution_count": null,
      "outputs": []
    },
    {
      "cell_type": "code",
      "source": [
        "train = traintest[traintest['set']=='train'].copy()\n",
        "test = traintest[traintest['set']=='test'].copy()"
      ],
      "metadata": {
        "id": "tf8dQ-DmzliR"
      },
      "execution_count": null,
      "outputs": []
    },
    {
      "cell_type": "code",
      "source": [
        "users = list(np.unique(traintest[user_field].values))\n",
        "items = list(np.unique(traintest[item_field].values))"
      ],
      "metadata": {
        "id": "nvj5P3GSznLK"
      },
      "execution_count": null,
      "outputs": []
    },
    {
      "cell_type": "code",
      "source": [
        "items_metadata = traintest.drop_duplicates(subset=['item_id'], keep='first')\n",
        "category_per_item = items_metadata[type_field].values"
      ],
      "metadata": {
        "id": "q2pUsphezoQQ"
      },
      "execution_count": null,
      "outputs": []
    },
    {
      "cell_type": "markdown",
      "source": [
        "Now, we are ready to import and usethe re-ranking model mentioned above."
      ],
      "metadata": {
        "id": "QIEhcGYCzr5B"
      }
    },
    {
      "cell_type": "code",
      "source": [
        "from models.ranker_xquad import RankerXQuad\n",
        "model = RankerXQuad(users, items, train, test, category_per_item, item_field, user_field, rating_field)"
      ],
      "metadata": {
        "id": "4R_y9WihzpfN",
        "outputId": "fa7ba7d7-2c32-4d9c-e14d-7949410a0a17",
        "colab": {
          "base_uri": "https://localhost:8080/"
        }
      },
      "execution_count": null,
      "outputs": [
        {
          "output_type": "stream",
          "name": "stdout",
          "text": [
            "Initializing user, item, and categories lists\n",
            "Initializing observed, unobserved, and predicted relevance scores\n",
            "Initializing item popularity lists\n",
            "Initializing category per item\n",
            "Initializing category preference per user\n",
            "Initializing metrics\n"
          ]
        }
      ]
    },
    {
      "cell_type": "code",
      "source": [
        "original_model_type = 'utime_pairwise' # This string identifies the recommendation algorithm where the re-ranking is applied\n",
        "reranked_model_type = original_model_type + '_' + 'xquad' # This string is an identifier for models results in data/outputs"
      ],
      "metadata": {
        "id": "qAZUYFfBztqb"
      },
      "execution_count": null,
      "outputs": []
    },
    {
      "cell_type": "markdown",
      "source": [
        "We initialize the model predictions with those of the original recommendation model, precomputed in the first notebook."
      ],
      "metadata": {
        "id": "vNT6BaPjzx_k"
      }
    },
    {
      "cell_type": "code",
      "source": [
        "predictions = load_obj(os.path.join(data_path,'outputs/predictions/' + dataset + '_' + original_model_type + '_scores.pkl'))"
      ],
      "metadata": {
        "id": "3ii1izH-zvzu"
      },
      "execution_count": null,
      "outputs": []
    },
    {
      "cell_type": "code",
      "source": [
        "model.set_predictions(predictions)"
      ],
      "metadata": {
        "id": "FG0sbxQvz0FD"
      },
      "execution_count": null,
      "outputs": []
    },
    {
      "cell_type": "markdown",
      "source": [
        "Now, we can run the re-ranking process and save the positional relevance of items for users after re-ranking.  "
      ],
      "metadata": {
        "id": "EepIdJVYz5YT"
      }
    },
    {
      "cell_type": "code",
      "source": [
        "model.rerank(type='smooth', lmbda=0.4, k=10, rmax=100, head_tail_split=head_tail_split)"
      ],
      "metadata": {
        "id": "JFzevNFYIIGn"
      },
      "execution_count": null,
      "outputs": []
    },
    {
      "cell_type": "code",
      "source": [
        "predictions = model.get_predictions()"
      ],
      "metadata": {
        "id": "sVYOcxScIJEm"
      },
      "execution_count": null,
      "outputs": []
    },
    {
      "cell_type": "code",
      "source": [
        "save_obj(predictions, os.path.join(data_path, 'outputs/predictions/' + dataset + '_' + reranked_model_type + '_scores.pkl'))"
      ],
      "metadata": {
        "id": "lOlrqE6NIMMD"
      },
      "execution_count": null,
      "outputs": []
    },
    {
      "cell_type": "markdown",
      "source": [
        "Finally, we compute and show the metrics for the recommender systems obtained after re-ranking."
      ],
      "metadata": {
        "id": "lVDF5Az7IPrA"
      }
    },
    {
      "cell_type": "code",
      "source": [
        "model.test(cutoffs)"
      ],
      "metadata": {
        "id": "Y7ywSqhfITDH"
      },
      "execution_count": null,
      "outputs": []
    },
    {
      "cell_type": "code",
      "source": [
        "metrics = model.get_metrics()"
      ],
      "metadata": {
        "id": "vP0ON2acITeA"
      },
      "execution_count": null,
      "outputs": []
    },
    {
      "cell_type": "code",
      "source": [
        "save_obj(metrics, os.path.join(data_path, 'outputs/metrics/' + dataset + '_' + reranked_model_type + '_metrics.h5'))"
      ],
      "metadata": {
        "id": "3BXRJOFiIVmq"
      },
      "execution_count": null,
      "outputs": []
    },
    {
      "cell_type": "markdown",
      "source": [
        "**To speed up**\n",
        "\n",
        "This re-ranking takes several minutes. For this tutorial, please feel free to stop and load directly our pre-computed re-ranking predictions (2 MB).  "
      ],
      "metadata": {
        "id": "8Pw_9Ij10DDP"
      }
    },
    {
      "cell_type": "code",
      "source": [
        "!pip install PyDrive\n",
        "\n",
        "from pydrive.auth import GoogleAuth\n",
        "from pydrive.drive import GoogleDrive\n",
        "from google.colab import auth\n",
        "from oauth2client.client import GoogleCredentials\n",
        "\n",
        "auth.authenticate_user()\n",
        "gauth = GoogleAuth()\n",
        "gauth.credentials = GoogleCredentials.get_application_default()\n",
        "drive = GoogleDrive(gauth)\n",
        "\n",
        "downloaded = drive.CreateFile({'id':'1lAmSPd19F4WRfWz0TOdFcOzHUMieSJOX'})\n",
        "downloaded.GetContentFile('../data/outputs/metrics/ml1m_utime_pairwise_xquad_metrics.pkl')"
      ],
      "metadata": {
        "id": "QPVuhmJ2z1jO",
        "outputId": "9978548d-e42f-4128-c693-0878c23dba6c",
        "colab": {
          "base_uri": "https://localhost:8080/"
        }
      },
      "execution_count": null,
      "outputs": [
        {
          "output_type": "stream",
          "name": "stdout",
          "text": [
            "Requirement already satisfied: PyDrive in /usr/local/lib/python3.10/dist-packages (1.3.1)\n",
            "Requirement already satisfied: google-api-python-client>=1.2 in /usr/local/lib/python3.10/dist-packages (from PyDrive) (2.84.0)\n",
            "Requirement already satisfied: oauth2client>=4.0.0 in /usr/local/lib/python3.10/dist-packages (from PyDrive) (4.1.3)\n",
            "Requirement already satisfied: PyYAML>=3.0 in /usr/local/lib/python3.10/dist-packages (from PyDrive) (6.0.1)\n",
            "Requirement already satisfied: httplib2<1dev,>=0.15.0 in /usr/local/lib/python3.10/dist-packages (from google-api-python-client>=1.2->PyDrive) (0.22.0)\n",
            "Requirement already satisfied: google-auth<3.0.0dev,>=1.19.0 in /usr/local/lib/python3.10/dist-packages (from google-api-python-client>=1.2->PyDrive) (2.17.3)\n",
            "Requirement already satisfied: google-auth-httplib2>=0.1.0 in /usr/local/lib/python3.10/dist-packages (from google-api-python-client>=1.2->PyDrive) (0.1.1)\n",
            "Requirement already satisfied: google-api-core!=2.0.*,!=2.1.*,!=2.2.*,!=2.3.0,<3.0.0dev,>=1.31.5 in /usr/local/lib/python3.10/dist-packages (from google-api-python-client>=1.2->PyDrive) (2.11.1)\n",
            "Requirement already satisfied: uritemplate<5,>=3.0.1 in /usr/local/lib/python3.10/dist-packages (from google-api-python-client>=1.2->PyDrive) (4.1.1)\n",
            "Requirement already satisfied: pyasn1>=0.1.7 in /usr/local/lib/python3.10/dist-packages (from oauth2client>=4.0.0->PyDrive) (0.5.0)\n",
            "Requirement already satisfied: pyasn1-modules>=0.0.5 in /usr/local/lib/python3.10/dist-packages (from oauth2client>=4.0.0->PyDrive) (0.3.0)\n",
            "Requirement already satisfied: rsa>=3.1.4 in /usr/local/lib/python3.10/dist-packages (from oauth2client>=4.0.0->PyDrive) (4.9)\n",
            "Requirement already satisfied: six>=1.6.1 in /usr/local/lib/python3.10/dist-packages (from oauth2client>=4.0.0->PyDrive) (1.16.0)\n",
            "Requirement already satisfied: googleapis-common-protos<2.0.dev0,>=1.56.2 in /usr/local/lib/python3.10/dist-packages (from google-api-core!=2.0.*,!=2.1.*,!=2.2.*,!=2.3.0,<3.0.0dev,>=1.31.5->google-api-python-client>=1.2->PyDrive) (1.61.0)\n",
            "Requirement already satisfied: protobuf!=3.20.0,!=3.20.1,!=4.21.0,!=4.21.1,!=4.21.2,!=4.21.3,!=4.21.4,!=4.21.5,<5.0.0.dev0,>=3.19.5 in /usr/local/lib/python3.10/dist-packages (from google-api-core!=2.0.*,!=2.1.*,!=2.2.*,!=2.3.0,<3.0.0dev,>=1.31.5->google-api-python-client>=1.2->PyDrive) (3.20.3)\n",
            "Requirement already satisfied: requests<3.0.0.dev0,>=2.18.0 in /usr/local/lib/python3.10/dist-packages (from google-api-core!=2.0.*,!=2.1.*,!=2.2.*,!=2.3.0,<3.0.0dev,>=1.31.5->google-api-python-client>=1.2->PyDrive) (2.31.0)\n",
            "Requirement already satisfied: cachetools<6.0,>=2.0.0 in /usr/local/lib/python3.10/dist-packages (from google-auth<3.0.0dev,>=1.19.0->google-api-python-client>=1.2->PyDrive) (5.3.2)\n",
            "Requirement already satisfied: pyparsing!=3.0.0,!=3.0.1,!=3.0.2,!=3.0.3,<4,>=2.4.2 in /usr/local/lib/python3.10/dist-packages (from httplib2<1dev,>=0.15.0->google-api-python-client>=1.2->PyDrive) (3.1.1)\n",
            "Requirement already satisfied: charset-normalizer<4,>=2 in /usr/local/lib/python3.10/dist-packages (from requests<3.0.0.dev0,>=2.18.0->google-api-core!=2.0.*,!=2.1.*,!=2.2.*,!=2.3.0,<3.0.0dev,>=1.31.5->google-api-python-client>=1.2->PyDrive) (3.3.2)\n",
            "Requirement already satisfied: idna<4,>=2.5 in /usr/local/lib/python3.10/dist-packages (from requests<3.0.0.dev0,>=2.18.0->google-api-core!=2.0.*,!=2.1.*,!=2.2.*,!=2.3.0,<3.0.0dev,>=1.31.5->google-api-python-client>=1.2->PyDrive) (3.4)\n",
            "Requirement already satisfied: urllib3<3,>=1.21.1 in /usr/local/lib/python3.10/dist-packages (from requests<3.0.0.dev0,>=2.18.0->google-api-core!=2.0.*,!=2.1.*,!=2.2.*,!=2.3.0,<3.0.0dev,>=1.31.5->google-api-python-client>=1.2->PyDrive) (2.0.7)\n",
            "Requirement already satisfied: certifi>=2017.4.17 in /usr/local/lib/python3.10/dist-packages (from requests<3.0.0.dev0,>=2.18.0->google-api-core!=2.0.*,!=2.1.*,!=2.2.*,!=2.3.0,<3.0.0dev,>=1.31.5->google-api-python-client>=1.2->PyDrive) (2023.7.22)\n"
          ]
        }
      ]
    },
    {
      "cell_type": "code",
      "source": [
        "model.set_metrics(load_obj('../data/outputs/metrics/ml1m_utime_pairwise_xquad_metrics.pkl'))"
      ],
      "metadata": {
        "id": "3HyBZnWz0Fma"
      },
      "execution_count": null,
      "outputs": []
    },
    {
      "cell_type": "code",
      "source": [
        "model.show_metrics(index_k=int(np.where(cutoffs == 10)[0]))"
      ],
      "metadata": {
        "id": "DWtwT4ie0l8Z",
        "outputId": "f3924913-2d7c-49a7-be84-edb93ab63ee8",
        "colab": {
          "base_uri": "https://localhost:8080/"
        }
      },
      "execution_count": null,
      "outputs": [
        {
          "output_type": "stream",
          "name": "stdout",
          "text": [
            "Precision: 0.1029 \n",
            "Recall: 0.0491 \n",
            "NDCG: 0.1167 \n",
            "Hit Rate: 0.5207 \n",
            "Avg Popularity: 1156.0285 \n",
            "Category Diversity: 0.3287 \n",
            "Novelty: 2.9771 \n",
            "Item Coverage: 0.39 \n",
            "User Coverage: 0.5207\n"
          ]
        }
      ]
    },
    {
      "cell_type": "markdown",
      "source": [
        "Finally, we have obtained the metrics resulting from the considered strategy. Now, we come back to the **IMPORTANT BOOKMARK** mention ed above, using cutoffs = np.array([5, 10]) and adding 'utime_pairwise_xquad' to the model_types list. Then, we can rerun all the cells for plotting in order to compare the results obtained with these strategy against the ones of the baseline recommendation algorithms."
      ],
      "metadata": {
        "id": "lMDUmIsY0p4j"
      }
    }
  ],
  "metadata": {
    "kernelspec": {
      "display_name": "Python 3",
      "name": "python3"
    },
    "language_info": {
      "codemirror_mode": {
        "name": "ipython",
        "version": 3
      },
      "file_extension": ".py",
      "mimetype": "text/x-python",
      "name": "python",
      "nbconvert_exporter": "python",
      "pygments_lexer": "ipython3",
      "version": "3.6.8"
    },
    "colab": {
      "provenance": [],
      "gpuType": "T4"
    },
    "accelerator": "GPU"
  },
  "nbformat": 4,
  "nbformat_minor": 0
}